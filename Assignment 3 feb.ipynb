{
 "cells": [
  {
   "cell_type": "markdown",
   "id": "368cc37f",
   "metadata": {},
   "source": [
    "##Q1. Which keyword is used to create a function? Create a function to return a list of odd numbers in the\n",
    "range of 1 to 25.\n",
    "##ANS : def keyword is used to create a function"
   ]
  },
  {
   "cell_type": "code",
   "execution_count": 23,
   "id": "e984b394",
   "metadata": {},
   "outputs": [],
   "source": [
    "##Q1: \n",
    "def odd_num(a):\n",
    "    l1=[]\n",
    "    for i in range(1,26):\n",
    "        print\n",
    "        if i%2!=0:\n",
    "            l1.append(i)\n",
    "    return l1\n",
    "l = [1,2,3,4,5]\n",
    "    "
   ]
  },
  {
   "cell_type": "code",
   "execution_count": 24,
   "id": "8fc0ddb4",
   "metadata": {},
   "outputs": [
    {
     "data": {
      "text/plain": [
       "[1, 3, 5, 7, 9, 11, 13, 15, 17, 19, 21, 23, 25]"
      ]
     },
     "execution_count": 24,
     "metadata": {},
     "output_type": "execute_result"
    }
   ],
   "source": [
    "odd_num(l)"
   ]
  },
  {
   "cell_type": "markdown",
   "id": "c97daea2",
   "metadata": {},
   "source": [
    "##Q2:\n",
    "*args is used to take multiple arguments and **kwargs is used to take multiply argument as a dictionary , we can use any word instead of args and kwargs\n"
   ]
  },
  {
   "cell_type": "code",
   "execution_count": 38,
   "id": "93568603",
   "metadata": {},
   "outputs": [],
   "source": [
    "##Q2: \n",
    "def test(c,d,*args, a = 12, b=90):\n",
    "    return args,a,b,c,d"
   ]
  },
  {
   "cell_type": "code",
   "execution_count": 39,
   "id": "838ec48b",
   "metadata": {},
   "outputs": [
    {
     "data": {
      "text/plain": [
       "((3, 4, 4, 55, 66), 12, 90, 1, 2)"
      ]
     },
     "execution_count": 39,
     "metadata": {},
     "output_type": "execute_result"
    }
   ],
   "source": [
    "test(1,2,3,4,4,55,66)"
   ]
  },
  {
   "cell_type": "code",
   "execution_count": 40,
   "id": "19703c36",
   "metadata": {},
   "outputs": [],
   "source": [
    "def test2(a,b**kwargs):\n",
    "    return kwargs a,b"
   ]
  },
  {
   "cell_type": "code",
   "execution_count": 49,
   "id": "3a13d3de",
   "metadata": {},
   "outputs": [
    {
     "data": {
      "text/plain": [
       "{'a': 'sudh', 'b': 'rishabh'}"
      ]
     },
     "execution_count": 49,
     "metadata": {},
     "output_type": "execute_result"
    }
   ],
   "source": [
    "test2(a = \"sudh\", b= \"rishabh\")"
   ]
  },
  {
   "cell_type": "code",
   "execution_count": 51,
   "id": "f362b464",
   "metadata": {},
   "outputs": [
    {
     "data": {
      "text/plain": [
       "dict"
      ]
     },
     "execution_count": 51,
     "metadata": {},
     "output_type": "execute_result"
    }
   ],
   "source": [
    "type(test2())"
   ]
  },
  {
   "cell_type": "markdown",
   "id": "e834b59d",
   "metadata": {},
   "source": [
    "##Q3:\n",
    "Ans:An iterator is an object that contains a countable number of values\n",
    "Method used for iterator is iter()\n",
    "Method used for iteration is uses an initial value to generate a sequence of improving approximate solutions for a class of problems, in which the n-th approximation is derived from the previous ones."
   ]
  },
  {
   "cell_type": "code",
   "execution_count": 53,
   "id": "01996a90",
   "metadata": {},
   "outputs": [],
   "source": [
    "##Q3:\n",
    "l = [2,4,6,8,10,12,14,16,20]"
   ]
  },
  {
   "cell_type": "code",
   "execution_count": 54,
   "id": "4e3c0be6",
   "metadata": {},
   "outputs": [
    {
     "data": {
      "text/plain": [
       "[2, 4, 6, 8, 10, 12, 14, 16, 20]"
      ]
     },
     "execution_count": 54,
     "metadata": {},
     "output_type": "execute_result"
    }
   ],
   "source": [
    "l"
   ]
  },
  {
   "cell_type": "code",
   "execution_count": 57,
   "id": "61627da3",
   "metadata": {},
   "outputs": [
    {
     "data": {
      "text/plain": [
       "[2, 4, 6, 8, 10]"
      ]
     },
     "execution_count": 57,
     "metadata": {},
     "output_type": "execute_result"
    }
   ],
   "source": [
    "l[0:5:1]"
   ]
  },
  {
   "cell_type": "markdown",
   "id": "17653d09",
   "metadata": {},
   "source": [
    "Q4:\n",
    "Ans:In Python, a generator is a function that returns an iterator that produces a sequence of values when iterated over.\n",
    "Yield: yield keyword is used to create a generator function\n",
    "Example: def generator_name(arg):\n",
    "    # statements\n",
    "    yield something\n"
   ]
  },
  {
   "cell_type": "code",
   "execution_count": null,
   "id": "07c18033",
   "metadata": {},
   "outputs": [],
   "source": [
    "##Q5:\n"
   ]
  },
  {
   "cell_type": "code",
   "execution_count": 63,
   "id": "9505f5e4",
   "metadata": {},
   "outputs": [
    {
     "name": "stdout",
     "output_type": "stream",
     "text": [
      "Enter your number of element:10\n",
      "0\n",
      "1\n",
      "1\n",
      "2\n",
      "3\n",
      "5\n",
      "8\n",
      "13\n",
      "21\n",
      "34\n"
     ]
    }
   ],
   "source": [
    "##Q6:\n",
    "n = int(input(\"Enter your number of element:\"))\n",
    "a,b = 0,1\n",
    "counter = 0\n",
    "while counter<n:\n",
    "    print(a)\n",
    "    c = a+b\n",
    "    a = b\n",
    "    b = c\n",
    "    counter = counter+1\n",
    "    \n",
    "    "
   ]
  },
  {
   "cell_type": "code",
   "execution_count": 23,
   "id": "a81075cc",
   "metadata": {},
   "outputs": [],
   "source": [
    "##Q6:\n",
    "def prime_num(n):\n",
    "    counter = 0\n",
    "    for i in range(1,1000):\n",
    "        num = i\n",
    "        while num>0:\n",
    "            if i ==1 or num==1:\n",
    "                if counter<=n:\n",
    "                    yield i \n",
    "                    counter = counter+1\n",
    "                break\n",
    "            elif i%num==0 and i!=num:\n",
    "                break\n",
    "            else:\n",
    "                num-=1\n",
    "    \n",
    "\n",
    "        \n",
    "        \n",
    "        \n",
    "        "
   ]
  },
  {
   "cell_type": "code",
   "execution_count": 24,
   "id": "6e79e27d",
   "metadata": {},
   "outputs": [
    {
     "name": "stdout",
     "output_type": "stream",
     "text": [
      "1 2 3 5 7 11 13 17 19 23 29 31 37 41 43 47 53 59 61 67 71 "
     ]
    }
   ],
   "source": [
    "for i in prime_num(20):\n",
    "    print(i,end=\" \")"
   ]
  },
  {
   "cell_type": "code",
   "execution_count": 69,
   "id": "6eb4befd",
   "metadata": {},
   "outputs": [
    {
     "data": {
      "text/plain": [
       "['p', 'w', 's', 'k', 'i', 'l', 'l', 's']"
      ]
     },
     "execution_count": 69,
     "metadata": {},
     "output_type": "execute_result"
    }
   ],
   "source": [
    "\n",
    "##Q7:\n",
    "s = \"pwskills\"\n",
    "[i for i in s]"
   ]
  },
  {
   "cell_type": "code",
   "execution_count": 82,
   "id": "1972d6ab",
   "metadata": {},
   "outputs": [
    {
     "name": "stdout",
     "output_type": "stream",
     "text": [
      "Enter your number:121\n",
      "Palindrme Number\n"
     ]
    }
   ],
   "source": [
    "##Q8: \n",
    "i = int(input(\"Enter your number:\"))\n",
    "rev = 0\n",
    "x = i\n",
    "while i>0:\n",
    "    rev = rev*10+i%10\n",
    "    i = i//10\n",
    "if (x==rev):\n",
    "    print(\"Palindrme Number\")\n",
    "else:\n",
    "    print(\"Not palindrome\")\n",
    "\n"
   ]
  },
  {
   "cell_type": "code",
   "execution_count": null,
   "id": "f0c0aab7",
   "metadata": {},
   "outputs": [],
   "source": []
  },
  {
   "cell_type": "code",
   "execution_count": 83,
   "id": "082fca56",
   "metadata": {},
   "outputs": [
    {
     "data": {
      "text/plain": [
       "[1,\n",
       " 3,\n",
       " 5,\n",
       " 7,\n",
       " 9,\n",
       " 11,\n",
       " 13,\n",
       " 15,\n",
       " 17,\n",
       " 19,\n",
       " 21,\n",
       " 23,\n",
       " 25,\n",
       " 27,\n",
       " 29,\n",
       " 31,\n",
       " 33,\n",
       " 35,\n",
       " 37,\n",
       " 39,\n",
       " 41,\n",
       " 43,\n",
       " 45,\n",
       " 47,\n",
       " 49,\n",
       " 51,\n",
       " 53,\n",
       " 55,\n",
       " 57,\n",
       " 59,\n",
       " 61,\n",
       " 63,\n",
       " 65,\n",
       " 67,\n",
       " 69,\n",
       " 71,\n",
       " 73,\n",
       " 75,\n",
       " 77,\n",
       " 79,\n",
       " 81,\n",
       " 83,\n",
       " 85,\n",
       " 87,\n",
       " 89,\n",
       " 91,\n",
       " 93,\n",
       " 95,\n",
       " 97,\n",
       " 99]"
      ]
     },
     "execution_count": 83,
     "metadata": {},
     "output_type": "execute_result"
    }
   ],
   "source": [
    "##Q9:\n",
    "[ i for i in range (1,101) if i%2!=0]"
   ]
  },
  {
   "cell_type": "code",
   "execution_count": null,
   "id": "758e836d",
   "metadata": {},
   "outputs": [],
   "source": []
  }
 ],
 "metadata": {
  "kernelspec": {
   "display_name": "Python 3 (ipykernel)",
   "language": "python",
   "name": "python3"
  },
  "language_info": {
   "codemirror_mode": {
    "name": "ipython",
    "version": 3
   },
   "file_extension": ".py",
   "mimetype": "text/x-python",
   "name": "python",
   "nbconvert_exporter": "python",
   "pygments_lexer": "ipython3",
   "version": "3.9.13"
  }
 },
 "nbformat": 4,
 "nbformat_minor": 5
}
